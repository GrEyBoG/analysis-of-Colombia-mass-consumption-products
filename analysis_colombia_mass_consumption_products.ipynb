{
 "cells": [
  {
   "cell_type": "markdown",
   "id": "a315e8a7",
   "metadata": {
    "papermill": {
     "duration": 0.007644,
     "end_time": "2025-03-15T22:27:29.230595",
     "exception": false,
     "start_time": "2025-03-15T22:27:29.222951",
     "status": "completed"
    },
    "tags": []
   },
   "source": [
    "### *Imports*"
   ]
  },
  {
   "cell_type": "code",
   "execution_count": 1,
   "id": "280075cc",
   "metadata": {
    "_cell_guid": "b1076dfc-b9ad-4769-8c92-a6c4dae69d19",
    "_uuid": "8f2839f25d086af736a60e9eeb907d3b93b6e0e5",
    "execution": {
     "iopub.execute_input": "2025-03-15T22:27:29.246631Z",
     "iopub.status.busy": "2025-03-15T22:27:29.246086Z",
     "iopub.status.idle": "2025-03-15T22:27:31.993486Z",
     "shell.execute_reply": "2025-03-15T22:27:31.992152Z"
    },
    "papermill": {
     "duration": 2.757787,
     "end_time": "2025-03-15T22:27:31.995485",
     "exception": false,
     "start_time": "2025-03-15T22:27:29.237698",
     "status": "completed"
    },
    "tags": []
   },
   "outputs": [],
   "source": [
    "import pandas as pd\n",
    "import numpy as np\n",
    "import matplotlib.pylab as plt\n",
    "import seaborn as sns"
   ]
  },
  {
   "cell_type": "markdown",
   "id": "6400bd60",
   "metadata": {
    "papermill": {
     "duration": 0.006804,
     "end_time": "2025-03-15T22:27:32.009527",
     "exception": false,
     "start_time": "2025-03-15T22:27:32.002723",
     "status": "completed"
    },
    "tags": []
   },
   "source": [
    "### *Get Data*"
   ]
  },
  {
   "cell_type": "code",
   "execution_count": 2,
   "id": "8183d22f",
   "metadata": {
    "execution": {
     "iopub.execute_input": "2025-03-15T22:27:32.024975Z",
     "iopub.status.busy": "2025-03-15T22:27:32.024406Z",
     "iopub.status.idle": "2025-03-15T22:27:37.310603Z",
     "shell.execute_reply": "2025-03-15T22:27:37.309465Z"
    },
    "papermill": {
     "duration": 5.296052,
     "end_time": "2025-03-15T22:27:37.312497",
     "exception": false,
     "start_time": "2025-03-15T22:27:32.016445",
     "status": "completed"
    },
    "tags": []
   },
   "outputs": [],
   "source": [
    "df = pd.read_excel(\"../input/productos-consumo-masivo/output - Kaggle.xlsx\")"
   ]
  },
  {
   "cell_type": "code",
   "execution_count": 3,
   "id": "68d52193",
   "metadata": {
    "execution": {
     "iopub.execute_input": "2025-03-15T22:27:37.327844Z",
     "iopub.status.busy": "2025-03-15T22:27:37.327359Z",
     "iopub.status.idle": "2025-03-15T22:27:37.333697Z",
     "shell.execute_reply": "2025-03-15T22:27:37.332805Z"
    },
    "papermill": {
     "duration": 0.015763,
     "end_time": "2025-03-15T22:27:37.335407",
     "exception": false,
     "start_time": "2025-03-15T22:27:37.319644",
     "status": "completed"
    },
    "tags": []
   },
   "outputs": [
    {
     "data": {
      "text/plain": [
       "(25638, 13)"
      ]
     },
     "execution_count": 3,
     "metadata": {},
     "output_type": "execute_result"
    }
   ],
   "source": [
    "df.shape"
   ]
  },
  {
   "cell_type": "code",
   "execution_count": 4,
   "id": "75b1b23a",
   "metadata": {
    "execution": {
     "iopub.execute_input": "2025-03-15T22:27:37.350721Z",
     "iopub.status.busy": "2025-03-15T22:27:37.350360Z",
     "iopub.status.idle": "2025-03-15T22:27:37.356010Z",
     "shell.execute_reply": "2025-03-15T22:27:37.355085Z"
    },
    "papermill": {
     "duration": 0.014838,
     "end_time": "2025-03-15T22:27:37.357564",
     "exception": false,
     "start_time": "2025-03-15T22:27:37.342726",
     "status": "completed"
    },
    "tags": []
   },
   "outputs": [
    {
     "data": {
      "text/plain": [
       "Index(['date', 'prod_id', 'prod_name', 'prod_name_long', 'prod_brand',\n",
       "       'category', 'subcategory', 'tags', 'prod_unit_price', 'prod_units',\n",
       "       'prod_icon', 'prod_source', 'source_type'],\n",
       "      dtype='object')"
      ]
     },
     "execution_count": 4,
     "metadata": {},
     "output_type": "execute_result"
    }
   ],
   "source": [
    "df.columns"
   ]
  },
  {
   "cell_type": "code",
   "execution_count": 5,
   "id": "cdc77f94",
   "metadata": {
    "execution": {
     "iopub.execute_input": "2025-03-15T22:27:37.373373Z",
     "iopub.status.busy": "2025-03-15T22:27:37.373008Z",
     "iopub.status.idle": "2025-03-15T22:27:37.406726Z",
     "shell.execute_reply": "2025-03-15T22:27:37.405634Z"
    },
    "papermill": {
     "duration": 0.043355,
     "end_time": "2025-03-15T22:27:37.408554",
     "exception": false,
     "start_time": "2025-03-15T22:27:37.365199",
     "status": "completed"
    },
    "tags": []
   },
   "outputs": [
    {
     "data": {
      "text/html": [
       "<div>\n",
       "<style scoped>\n",
       "    .dataframe tbody tr th:only-of-type {\n",
       "        vertical-align: middle;\n",
       "    }\n",
       "\n",
       "    .dataframe tbody tr th {\n",
       "        vertical-align: top;\n",
       "    }\n",
       "\n",
       "    .dataframe thead th {\n",
       "        text-align: right;\n",
       "    }\n",
       "</style>\n",
       "<table border=\"1\" class=\"dataframe\">\n",
       "  <thead>\n",
       "    <tr style=\"text-align: right;\">\n",
       "      <th></th>\n",
       "      <th>date</th>\n",
       "      <th>prod_id</th>\n",
       "      <th>prod_name</th>\n",
       "      <th>prod_name_long</th>\n",
       "      <th>prod_brand</th>\n",
       "      <th>category</th>\n",
       "      <th>subcategory</th>\n",
       "      <th>tags</th>\n",
       "      <th>prod_unit_price</th>\n",
       "      <th>prod_units</th>\n",
       "      <th>prod_icon</th>\n",
       "      <th>prod_source</th>\n",
       "      <th>source_type</th>\n",
       "    </tr>\n",
       "  </thead>\n",
       "  <tbody>\n",
       "    <tr>\n",
       "      <th>0</th>\n",
       "      <td>20190609</td>\n",
       "      <td>7702155021451</td>\n",
       "      <td>Limpia tapicería en espuma Binner</td>\n",
       "      <td>Limpia tapicería en espuma Binner x 400ml</td>\n",
       "      <td>BINNER</td>\n",
       "      <td>Supermercado</td>\n",
       "      <td>Aseo de hogar</td>\n",
       "      <td>Alfombras</td>\n",
       "      <td>15590</td>\n",
       "      <td>Unidades</td>\n",
       "      <td>../icons/SVG/53-places/home-3.svg</td>\n",
       "      <td>VERDE</td>\n",
       "      <td>1</td>\n",
       "    </tr>\n",
       "    <tr>\n",
       "      <th>1</th>\n",
       "      <td>20190609</td>\n",
       "      <td>7702155016457</td>\n",
       "      <td>Limpia tapicería y alfombras Binner</td>\n",
       "      <td>Limpia tapicería y alfombras Binner x 500ml</td>\n",
       "      <td>BINNER</td>\n",
       "      <td>Supermercado</td>\n",
       "      <td>Aseo de hogar</td>\n",
       "      <td>Alfombras</td>\n",
       "      <td>13993</td>\n",
       "      <td>Unidades</td>\n",
       "      <td>../icons/SVG/53-places/home-3.svg</td>\n",
       "      <td>VERDE</td>\n",
       "      <td>1</td>\n",
       "    </tr>\n",
       "    <tr>\n",
       "      <th>2</th>\n",
       "      <td>20190609</td>\n",
       "      <td>4008455446318</td>\n",
       "      <td>Limpiador Dr. Beckmann alfombras 2en1 poder oxi</td>\n",
       "      <td>Limpiador Dr. Beckmann alfombras 2en1 poder ox...</td>\n",
       "      <td>DR.BECKMANN</td>\n",
       "      <td>Supermercado</td>\n",
       "      <td>Aseo de hogar</td>\n",
       "      <td>Alfombras</td>\n",
       "      <td>16513</td>\n",
       "      <td>Unidades</td>\n",
       "      <td>../icons/SVG/53-places/home-3.svg</td>\n",
       "      <td>VERDE</td>\n",
       "      <td>1</td>\n",
       "    </tr>\n",
       "    <tr>\n",
       "      <th>3</th>\n",
       "      <td>20190609</td>\n",
       "      <td>7702532312677</td>\n",
       "      <td>Aceite Bon Aire eléctrico perfume flores</td>\n",
       "      <td>Aceite Bon Aire eléctrico perfume flores x 25 ml</td>\n",
       "      <td>BONAIRE</td>\n",
       "      <td>Supermercado</td>\n",
       "      <td>Aseo de hogar</td>\n",
       "      <td>Ambientadores</td>\n",
       "      <td>14990</td>\n",
       "      <td>Unidades</td>\n",
       "      <td>../icons/SVG/58-beauty-spas/spa-vapor.svg</td>\n",
       "      <td>VERDE</td>\n",
       "      <td>1</td>\n",
       "    </tr>\n",
       "    <tr>\n",
       "      <th>4</th>\n",
       "      <td>20190609</td>\n",
       "      <td>7702532312967</td>\n",
       "      <td>Ambientador Aire Varitas Bambú Bonaire 2 Repue...</td>\n",
       "      <td>Ambientador Aire Varitas Bambú Bonaire 2 Repue...</td>\n",
       "      <td>BONAIRE</td>\n",
       "      <td>Supermercado</td>\n",
       "      <td>Aseo de hogar</td>\n",
       "      <td>Ambientadores</td>\n",
       "      <td>34990</td>\n",
       "      <td>Unidades</td>\n",
       "      <td>../icons/SVG/58-beauty-spas/spa-vapor.svg</td>\n",
       "      <td>VERDE</td>\n",
       "      <td>1</td>\n",
       "    </tr>\n",
       "  </tbody>\n",
       "</table>\n",
       "</div>"
      ],
      "text/plain": [
       "       date        prod_id                                          prod_name  \\\n",
       "0  20190609  7702155021451                 Limpia tapicería en espuma Binner    \n",
       "1  20190609  7702155016457               Limpia tapicería y alfombras Binner    \n",
       "2  20190609  4008455446318   Limpiador Dr. Beckmann alfombras 2en1 poder oxi    \n",
       "3  20190609  7702532312677          Aceite Bon Aire eléctrico perfume flores    \n",
       "4  20190609  7702532312967  Ambientador Aire Varitas Bambú Bonaire 2 Repue...   \n",
       "\n",
       "                                      prod_name_long   prod_brand  \\\n",
       "0          Limpia tapicería en espuma Binner x 400ml       BINNER   \n",
       "1        Limpia tapicería y alfombras Binner x 500ml       BINNER   \n",
       "2  Limpiador Dr. Beckmann alfombras 2en1 poder ox...  DR.BECKMANN   \n",
       "3   Aceite Bon Aire eléctrico perfume flores x 25 ml      BONAIRE   \n",
       "4  Ambientador Aire Varitas Bambú Bonaire 2 Repue...      BONAIRE   \n",
       "\n",
       "       category    subcategory           tags prod_unit_price prod_units  \\\n",
       "0  Supermercado  Aseo de hogar      Alfombras           15590   Unidades   \n",
       "1  Supermercado  Aseo de hogar      Alfombras           13993   Unidades   \n",
       "2  Supermercado  Aseo de hogar      Alfombras           16513   Unidades   \n",
       "3  Supermercado  Aseo de hogar  Ambientadores           14990   Unidades   \n",
       "4  Supermercado  Aseo de hogar  Ambientadores           34990   Unidades   \n",
       "\n",
       "                                   prod_icon prod_source  source_type  \n",
       "0          ../icons/SVG/53-places/home-3.svg       VERDE            1  \n",
       "1          ../icons/SVG/53-places/home-3.svg       VERDE            1  \n",
       "2          ../icons/SVG/53-places/home-3.svg       VERDE            1  \n",
       "3  ../icons/SVG/58-beauty-spas/spa-vapor.svg       VERDE            1  \n",
       "4  ../icons/SVG/58-beauty-spas/spa-vapor.svg       VERDE            1  "
      ]
     },
     "execution_count": 5,
     "metadata": {},
     "output_type": "execute_result"
    }
   ],
   "source": [
    "df.head()"
   ]
  },
  {
   "cell_type": "code",
   "execution_count": 6,
   "id": "af7a1770",
   "metadata": {
    "execution": {
     "iopub.execute_input": "2025-03-15T22:27:37.425689Z",
     "iopub.status.busy": "2025-03-15T22:27:37.425204Z",
     "iopub.status.idle": "2025-03-15T22:27:37.432405Z",
     "shell.execute_reply": "2025-03-15T22:27:37.431341Z"
    },
    "papermill": {
     "duration": 0.017597,
     "end_time": "2025-03-15T22:27:37.434075",
     "exception": false,
     "start_time": "2025-03-15T22:27:37.416478",
     "status": "completed"
    },
    "tags": []
   },
   "outputs": [
    {
     "data": {
      "text/plain": [
       "date                int64\n",
       "prod_id             int64\n",
       "prod_name          object\n",
       "prod_name_long     object\n",
       "prod_brand         object\n",
       "category           object\n",
       "subcategory        object\n",
       "tags               object\n",
       "prod_unit_price    object\n",
       "prod_units         object\n",
       "prod_icon          object\n",
       "prod_source        object\n",
       "source_type         int64\n",
       "dtype: object"
      ]
     },
     "execution_count": 6,
     "metadata": {},
     "output_type": "execute_result"
    }
   ],
   "source": [
    "df.dtypes"
   ]
  },
  {
   "cell_type": "code",
   "execution_count": 7,
   "id": "9a4e57e1",
   "metadata": {
    "execution": {
     "iopub.execute_input": "2025-03-15T22:27:37.450410Z",
     "iopub.status.busy": "2025-03-15T22:27:37.449987Z",
     "iopub.status.idle": "2025-03-15T22:27:37.474420Z",
     "shell.execute_reply": "2025-03-15T22:27:37.473241Z"
    },
    "papermill": {
     "duration": 0.034405,
     "end_time": "2025-03-15T22:27:37.476171",
     "exception": false,
     "start_time": "2025-03-15T22:27:37.441766",
     "status": "completed"
    },
    "tags": []
   },
   "outputs": [
    {
     "data": {
      "text/html": [
       "<div>\n",
       "<style scoped>\n",
       "    .dataframe tbody tr th:only-of-type {\n",
       "        vertical-align: middle;\n",
       "    }\n",
       "\n",
       "    .dataframe tbody tr th {\n",
       "        vertical-align: top;\n",
       "    }\n",
       "\n",
       "    .dataframe thead th {\n",
       "        text-align: right;\n",
       "    }\n",
       "</style>\n",
       "<table border=\"1\" class=\"dataframe\">\n",
       "  <thead>\n",
       "    <tr style=\"text-align: right;\">\n",
       "      <th></th>\n",
       "      <th>date</th>\n",
       "      <th>prod_id</th>\n",
       "      <th>source_type</th>\n",
       "    </tr>\n",
       "  </thead>\n",
       "  <tbody>\n",
       "    <tr>\n",
       "      <th>count</th>\n",
       "      <td>2.563800e+04</td>\n",
       "      <td>2.563800e+04</td>\n",
       "      <td>25638.0</td>\n",
       "    </tr>\n",
       "    <tr>\n",
       "      <th>mean</th>\n",
       "      <td>2.019279e+07</td>\n",
       "      <td>7.137052e+12</td>\n",
       "      <td>1.0</td>\n",
       "    </tr>\n",
       "    <tr>\n",
       "      <th>std</th>\n",
       "      <td>3.867261e+03</td>\n",
       "      <td>1.872051e+12</td>\n",
       "      <td>0.0</td>\n",
       "    </tr>\n",
       "    <tr>\n",
       "      <th>min</th>\n",
       "      <td>2.019061e+07</td>\n",
       "      <td>5.244812e+06</td>\n",
       "      <td>1.0</td>\n",
       "    </tr>\n",
       "    <tr>\n",
       "      <th>25%</th>\n",
       "      <td>2.019061e+07</td>\n",
       "      <td>7.702010e+12</td>\n",
       "      <td>1.0</td>\n",
       "    </tr>\n",
       "    <tr>\n",
       "      <th>50%</th>\n",
       "      <td>2.019071e+07</td>\n",
       "      <td>7.702177e+12</td>\n",
       "      <td>1.0</td>\n",
       "    </tr>\n",
       "    <tr>\n",
       "      <th>75%</th>\n",
       "      <td>2.019110e+07</td>\n",
       "      <td>7.703616e+12</td>\n",
       "      <td>1.0</td>\n",
       "    </tr>\n",
       "    <tr>\n",
       "      <th>max</th>\n",
       "      <td>2.020022e+07</td>\n",
       "      <td>9.333527e+12</td>\n",
       "      <td>1.0</td>\n",
       "    </tr>\n",
       "  </tbody>\n",
       "</table>\n",
       "</div>"
      ],
      "text/plain": [
       "               date       prod_id  source_type\n",
       "count  2.563800e+04  2.563800e+04      25638.0\n",
       "mean   2.019279e+07  7.137052e+12          1.0\n",
       "std    3.867261e+03  1.872051e+12          0.0\n",
       "min    2.019061e+07  5.244812e+06          1.0\n",
       "25%    2.019061e+07  7.702010e+12          1.0\n",
       "50%    2.019071e+07  7.702177e+12          1.0\n",
       "75%    2.019110e+07  7.703616e+12          1.0\n",
       "max    2.020022e+07  9.333527e+12          1.0"
      ]
     },
     "execution_count": 7,
     "metadata": {},
     "output_type": "execute_result"
    }
   ],
   "source": [
    "df.describe()"
   ]
  },
  {
   "cell_type": "markdown",
   "id": "2bc4d56e",
   "metadata": {
    "papermill": {
     "duration": 0.007827,
     "end_time": "2025-03-15T22:27:37.492474",
     "exception": false,
     "start_time": "2025-03-15T22:27:37.484647",
     "status": "completed"
    },
    "tags": []
   },
   "source": [
    "# *1. Data Preparation*"
   ]
  },
  {
   "cell_type": "markdown",
   "id": "4534e8f7",
   "metadata": {
    "papermill": {
     "duration": 0.007305,
     "end_time": "2025-03-15T22:27:37.507410",
     "exception": false,
     "start_time": "2025-03-15T22:27:37.500105",
     "status": "completed"
    },
    "tags": []
   },
   "source": [
    "Let's eliminate the column of icons, since it is not useful for this analysis."
   ]
  },
  {
   "cell_type": "code",
   "execution_count": 8,
   "id": "e40ffcdb",
   "metadata": {
    "execution": {
     "iopub.execute_input": "2025-03-15T22:27:37.524303Z",
     "iopub.status.busy": "2025-03-15T22:27:37.523853Z",
     "iopub.status.idle": "2025-03-15T22:27:37.541888Z",
     "shell.execute_reply": "2025-03-15T22:27:37.540752Z"
    },
    "papermill": {
     "duration": 0.028462,
     "end_time": "2025-03-15T22:27:37.543744",
     "exception": false,
     "start_time": "2025-03-15T22:27:37.515282",
     "status": "completed"
    },
    "tags": []
   },
   "outputs": [
    {
     "data": {
      "text/plain": [
       "(25638, 12)"
      ]
     },
     "execution_count": 8,
     "metadata": {},
     "output_type": "execute_result"
    }
   ],
   "source": [
    "df = df[['date', \n",
    "         'prod_id', \n",
    "         'prod_name', \n",
    "         'prod_name_long', \n",
    "         'prod_brand',\n",
    "         'category', \n",
    "         'subcategory', \n",
    "         'tags', \n",
    "         'prod_unit_price', \n",
    "         'prod_units',\n",
    "         # 'prod_icon', \n",
    "         'prod_source', \n",
    "         'source_type'\n",
    "        ]].copy()\n",
    "df.shape"
   ]
  },
  {
   "cell_type": "markdown",
   "id": "37743f3b",
   "metadata": {
    "papermill": {
     "duration": 0.008137,
     "end_time": "2025-03-15T22:27:37.560181",
     "exception": false,
     "start_time": "2025-03-15T22:27:37.552044",
     "status": "completed"
    },
    "tags": []
   },
   "source": [
    "The date column is as an integer, so let's change it to be date type"
   ]
  },
  {
   "cell_type": "code",
   "execution_count": 9,
   "id": "2100069e",
   "metadata": {
    "execution": {
     "iopub.execute_input": "2025-03-15T22:27:37.577022Z",
     "iopub.status.busy": "2025-03-15T22:27:37.576637Z",
     "iopub.status.idle": "2025-03-15T22:27:37.600702Z",
     "shell.execute_reply": "2025-03-15T22:27:37.599485Z"
    },
    "papermill": {
     "duration": 0.034602,
     "end_time": "2025-03-15T22:27:37.602600",
     "exception": false,
     "start_time": "2025-03-15T22:27:37.567998",
     "status": "completed"
    },
    "tags": []
   },
   "outputs": [],
   "source": [
    "df['date'] = pd.to_datetime(df['date'].astype(str), format='%Y%m%d')"
   ]
  },
  {
   "cell_type": "code",
   "execution_count": 10,
   "id": "0a2519f4",
   "metadata": {
    "execution": {
     "iopub.execute_input": "2025-03-15T22:27:37.620441Z",
     "iopub.status.busy": "2025-03-15T22:27:37.620064Z",
     "iopub.status.idle": "2025-03-15T22:27:37.626778Z",
     "shell.execute_reply": "2025-03-15T22:27:37.625939Z"
    },
    "papermill": {
     "duration": 0.017728,
     "end_time": "2025-03-15T22:27:37.628247",
     "exception": false,
     "start_time": "2025-03-15T22:27:37.610519",
     "status": "completed"
    },
    "tags": []
   },
   "outputs": [
    {
     "data": {
      "text/plain": [
       "date               datetime64[ns]\n",
       "prod_id                     int64\n",
       "prod_name                  object\n",
       "prod_name_long             object\n",
       "prod_brand                 object\n",
       "category                   object\n",
       "subcategory                object\n",
       "tags                       object\n",
       "prod_unit_price            object\n",
       "prod_units                 object\n",
       "prod_source                object\n",
       "source_type                 int64\n",
       "dtype: object"
      ]
     },
     "execution_count": 10,
     "metadata": {},
     "output_type": "execute_result"
    }
   ],
   "source": [
    "df.dtypes"
   ]
  },
  {
   "cell_type": "markdown",
   "id": "3515229f",
   "metadata": {
    "papermill": {
     "duration": 0.007454,
     "end_time": "2025-03-15T22:27:37.643718",
     "exception": false,
     "start_time": "2025-03-15T22:27:37.636264",
     "status": "completed"
    },
    "tags": []
   },
   "source": [
    "Let's see if there is data loss in our data set"
   ]
  },
  {
   "cell_type": "code",
   "execution_count": 11,
   "id": "e5fc4149",
   "metadata": {
    "execution": {
     "iopub.execute_input": "2025-03-15T22:27:37.660770Z",
     "iopub.status.busy": "2025-03-15T22:27:37.660389Z",
     "iopub.status.idle": "2025-03-15T22:27:37.683523Z",
     "shell.execute_reply": "2025-03-15T22:27:37.682450Z"
    },
    "papermill": {
     "duration": 0.033617,
     "end_time": "2025-03-15T22:27:37.685213",
     "exception": false,
     "start_time": "2025-03-15T22:27:37.651596",
     "status": "completed"
    },
    "tags": []
   },
   "outputs": [
    {
     "data": {
      "text/plain": [
       "date                 0\n",
       "prod_id              0\n",
       "prod_name          132\n",
       "prod_name_long       0\n",
       "prod_brand          52\n",
       "category             0\n",
       "subcategory          0\n",
       "tags                 0\n",
       "prod_unit_price      5\n",
       "prod_units         407\n",
       "prod_source          0\n",
       "source_type          0\n",
       "dtype: int64"
      ]
     },
     "execution_count": 11,
     "metadata": {},
     "output_type": "execute_result"
    }
   ],
   "source": [
    "df.isna().sum()"
   ]
  },
  {
   "cell_type": "markdown",
   "id": "7e8084b0",
   "metadata": {
    "papermill": {
     "duration": 0.007597,
     "end_time": "2025-03-15T22:27:37.701007",
     "exception": false,
     "start_time": "2025-03-15T22:27:37.693410",
     "status": "completed"
    },
    "tags": []
   },
   "source": [
    "Since we have some N/A product names, we will eliminate this column to work with the long product name column that has no N/A data."
   ]
  },
  {
   "cell_type": "code",
   "execution_count": 12,
   "id": "4bf48d99",
   "metadata": {
    "execution": {
     "iopub.execute_input": "2025-03-15T22:27:37.718240Z",
     "iopub.status.busy": "2025-03-15T22:27:37.717861Z",
     "iopub.status.idle": "2025-03-15T22:27:37.727518Z",
     "shell.execute_reply": "2025-03-15T22:27:37.726443Z"
    },
    "papermill": {
     "duration": 0.020573,
     "end_time": "2025-03-15T22:27:37.729481",
     "exception": false,
     "start_time": "2025-03-15T22:27:37.708908",
     "status": "completed"
    },
    "tags": []
   },
   "outputs": [],
   "source": [
    "df = df.drop(['prod_name'], axis = 1).copy()"
   ]
  },
  {
   "cell_type": "code",
   "execution_count": 13,
   "id": "0cb16767",
   "metadata": {
    "execution": {
     "iopub.execute_input": "2025-03-15T22:27:37.746917Z",
     "iopub.status.busy": "2025-03-15T22:27:37.746563Z",
     "iopub.status.idle": "2025-03-15T22:27:37.753745Z",
     "shell.execute_reply": "2025-03-15T22:27:37.752666Z"
    },
    "papermill": {
     "duration": 0.017815,
     "end_time": "2025-03-15T22:27:37.755452",
     "exception": false,
     "start_time": "2025-03-15T22:27:37.737637",
     "status": "completed"
    },
    "tags": []
   },
   "outputs": [
    {
     "data": {
      "text/plain": [
       "array(['Supermercado'], dtype=object)"
      ]
     },
     "execution_count": 13,
     "metadata": {},
     "output_type": "execute_result"
    }
   ],
   "source": [
    "df['category'].unique()"
   ]
  },
  {
   "cell_type": "markdown",
   "id": "22a3f5ae",
   "metadata": {
    "papermill": {
     "duration": 0.007756,
     "end_time": "2025-03-15T22:27:37.771561",
     "exception": false,
     "start_time": "2025-03-15T22:27:37.763805",
     "status": "completed"
    },
    "tags": []
   },
   "source": [
    "Let's remove the category column, as there is only one category"
   ]
  },
  {
   "cell_type": "code",
   "execution_count": 14,
   "id": "55631ca0",
   "metadata": {
    "execution": {
     "iopub.execute_input": "2025-03-15T22:27:37.788927Z",
     "iopub.status.busy": "2025-03-15T22:27:37.788579Z",
     "iopub.status.idle": "2025-03-15T22:27:37.797490Z",
     "shell.execute_reply": "2025-03-15T22:27:37.796431Z"
    },
    "papermill": {
     "duration": 0.019707,
     "end_time": "2025-03-15T22:27:37.799288",
     "exception": false,
     "start_time": "2025-03-15T22:27:37.779581",
     "status": "completed"
    },
    "tags": []
   },
   "outputs": [],
   "source": [
    "df = df.drop(['category'], axis = 1).copy()"
   ]
  },
  {
   "cell_type": "markdown",
   "id": "1ac73a8e",
   "metadata": {
    "papermill": {
     "duration": 0.007632,
     "end_time": "2025-03-15T22:27:37.815213",
     "exception": false,
     "start_time": "2025-03-15T22:27:37.807581",
     "status": "completed"
    },
    "tags": []
   },
   "source": [
    "Now let's review the product units in N/A and why this is happening."
   ]
  },
  {
   "cell_type": "code",
   "execution_count": 15,
   "id": "857addd2",
   "metadata": {
    "execution": {
     "iopub.execute_input": "2025-03-15T22:27:37.833040Z",
     "iopub.status.busy": "2025-03-15T22:27:37.832688Z",
     "iopub.status.idle": "2025-03-15T22:27:37.839460Z",
     "shell.execute_reply": "2025-03-15T22:27:37.838463Z"
    },
    "papermill": {
     "duration": 0.017454,
     "end_time": "2025-03-15T22:27:37.840969",
     "exception": false,
     "start_time": "2025-03-15T22:27:37.823515",
     "status": "completed"
    },
    "tags": []
   },
   "outputs": [
    {
     "data": {
      "text/plain": [
       "array(['Unidades', 'Botella', nan], dtype=object)"
      ]
     },
     "execution_count": 15,
     "metadata": {},
     "output_type": "execute_result"
    }
   ],
   "source": [
    "df['prod_units'].unique()"
   ]
  },
  {
   "cell_type": "code",
   "execution_count": 16,
   "id": "4d6573aa",
   "metadata": {
    "execution": {
     "iopub.execute_input": "2025-03-15T22:27:37.859168Z",
     "iopub.status.busy": "2025-03-15T22:27:37.858836Z",
     "iopub.status.idle": "2025-03-15T22:27:37.876193Z",
     "shell.execute_reply": "2025-03-15T22:27:37.875259Z"
    },
    "papermill": {
     "duration": 0.028823,
     "end_time": "2025-03-15T22:27:37.878086",
     "exception": false,
     "start_time": "2025-03-15T22:27:37.849263",
     "status": "completed"
    },
    "tags": []
   },
   "outputs": [
    {
     "data": {
      "text/html": [
       "<div>\n",
       "<style scoped>\n",
       "    .dataframe tbody tr th:only-of-type {\n",
       "        vertical-align: middle;\n",
       "    }\n",
       "\n",
       "    .dataframe tbody tr th {\n",
       "        vertical-align: top;\n",
       "    }\n",
       "\n",
       "    .dataframe thead th {\n",
       "        text-align: right;\n",
       "    }\n",
       "</style>\n",
       "<table border=\"1\" class=\"dataframe\">\n",
       "  <thead>\n",
       "    <tr style=\"text-align: right;\">\n",
       "      <th></th>\n",
       "      <th>date</th>\n",
       "      <th>prod_id</th>\n",
       "      <th>prod_name_long</th>\n",
       "      <th>prod_brand</th>\n",
       "      <th>subcategory</th>\n",
       "      <th>tags</th>\n",
       "      <th>prod_unit_price</th>\n",
       "      <th>prod_units</th>\n",
       "      <th>prod_source</th>\n",
       "      <th>source_type</th>\n",
       "    </tr>\n",
       "  </thead>\n",
       "  <tbody>\n",
       "    <tr>\n",
       "      <th>20205</th>\n",
       "      <td>2020-02-20</td>\n",
       "      <td>7501058715289</td>\n",
       "      <td>Aromatizante Air Wick Pure Repuesto Suavidad x...</td>\n",
       "      <td>AIR WICK</td>\n",
       "      <td>Aseo de hogar</td>\n",
       "      <td>Ambientadores</td>\n",
       "      <td>19590</td>\n",
       "      <td>NaN</td>\n",
       "      <td>VERDE</td>\n",
       "      <td>1</td>\n",
       "    </tr>\n",
       "    <tr>\n",
       "      <th>20360</th>\n",
       "      <td>2020-02-20</td>\n",
       "      <td>7591005992894</td>\n",
       "      <td>Insecticida 45 noches repuesto raid x 2 un x 6...</td>\n",
       "      <td>RAID</td>\n",
       "      <td>Aseo de hogar</td>\n",
       "      <td>Insecticidas</td>\n",
       "      <td>25990</td>\n",
       "      <td>NaN</td>\n",
       "      <td>VERDE</td>\n",
       "      <td>1</td>\n",
       "    </tr>\n",
       "    <tr>\n",
       "      <th>20396</th>\n",
       "      <td>2020-02-20</td>\n",
       "      <td>7591005981195</td>\n",
       "      <td>Limpia Pisos Campos De Lavanda Mr Musculo x 18...</td>\n",
       "      <td>MR MUSCULO</td>\n",
       "      <td>Aseo de hogar</td>\n",
       "      <td>Desinfectantes</td>\n",
       "      <td>8390</td>\n",
       "      <td>NaN</td>\n",
       "      <td>VERDE</td>\n",
       "      <td>1</td>\n",
       "    </tr>\n",
       "    <tr>\n",
       "      <th>20443</th>\n",
       "      <td>2020-02-20</td>\n",
       "      <td>7702155048779</td>\n",
       "      <td>Limpiador de piso brillo desinfectante lavanda...</td>\n",
       "      <td>BINNER</td>\n",
       "      <td>Aseo de hogar</td>\n",
       "      <td>Desinfectantes</td>\n",
       "      <td>12990</td>\n",
       "      <td>NaN</td>\n",
       "      <td>VERDE</td>\n",
       "      <td>1</td>\n",
       "    </tr>\n",
       "    <tr>\n",
       "      <th>20507</th>\n",
       "      <td>2020-02-20</td>\n",
       "      <td>7702535013830</td>\n",
       "      <td>Agua Brisa botella 1 litro - Agua Brisa en bot...</td>\n",
       "      <td>BRISA</td>\n",
       "      <td>Bebidas</td>\n",
       "      <td>Agua</td>\n",
       "      <td>2150</td>\n",
       "      <td>NaN</td>\n",
       "      <td>VERDE</td>\n",
       "      <td>1</td>\n",
       "    </tr>\n",
       "  </tbody>\n",
       "</table>\n",
       "</div>"
      ],
      "text/plain": [
       "            date        prod_id  \\\n",
       "20205 2020-02-20  7501058715289   \n",
       "20360 2020-02-20  7591005992894   \n",
       "20396 2020-02-20  7591005981195   \n",
       "20443 2020-02-20  7702155048779   \n",
       "20507 2020-02-20  7702535013830   \n",
       "\n",
       "                                          prod_name_long  prod_brand  \\\n",
       "20205  Aromatizante Air Wick Pure Repuesto Suavidad x...    AIR WICK   \n",
       "20360  Insecticida 45 noches repuesto raid x 2 un x 6...        RAID   \n",
       "20396  Limpia Pisos Campos De Lavanda Mr Musculo x 18...  MR MUSCULO   \n",
       "20443  Limpiador de piso brillo desinfectante lavanda...      BINNER   \n",
       "20507  Agua Brisa botella 1 litro - Agua Brisa en bot...       BRISA   \n",
       "\n",
       "         subcategory            tags prod_unit_price prod_units prod_source  \\\n",
       "20205  Aseo de hogar   Ambientadores           19590        NaN       VERDE   \n",
       "20360  Aseo de hogar    Insecticidas           25990        NaN       VERDE   \n",
       "20396  Aseo de hogar  Desinfectantes            8390        NaN       VERDE   \n",
       "20443  Aseo de hogar  Desinfectantes           12990        NaN       VERDE   \n",
       "20507        Bebidas            Agua            2150        NaN       VERDE   \n",
       "\n",
       "       source_type  \n",
       "20205            1  \n",
       "20360            1  \n",
       "20396            1  \n",
       "20443            1  \n",
       "20507            1  "
      ]
     },
     "execution_count": 16,
     "metadata": {},
     "output_type": "execute_result"
    }
   ],
   "source": [
    "df.loc[pd.isna(df['prod_units'])].head()"
   ]
  },
  {
   "cell_type": "code",
   "execution_count": 17,
   "id": "07dd7639",
   "metadata": {
    "execution": {
     "iopub.execute_input": "2025-03-15T22:27:37.896536Z",
     "iopub.status.busy": "2025-03-15T22:27:37.896125Z",
     "iopub.status.idle": "2025-03-15T22:27:37.911248Z",
     "shell.execute_reply": "2025-03-15T22:27:37.910132Z"
    },
    "papermill": {
     "duration": 0.02663,
     "end_time": "2025-03-15T22:27:37.913413",
     "exception": false,
     "start_time": "2025-03-15T22:27:37.886783",
     "status": "completed"
    },
    "tags": []
   },
   "outputs": [
    {
     "data": {
      "text/html": [
       "<div>\n",
       "<style scoped>\n",
       "    .dataframe tbody tr th:only-of-type {\n",
       "        vertical-align: middle;\n",
       "    }\n",
       "\n",
       "    .dataframe tbody tr th {\n",
       "        vertical-align: top;\n",
       "    }\n",
       "\n",
       "    .dataframe thead th {\n",
       "        text-align: right;\n",
       "    }\n",
       "</style>\n",
       "<table border=\"1\" class=\"dataframe\">\n",
       "  <thead>\n",
       "    <tr style=\"text-align: right;\">\n",
       "      <th></th>\n",
       "      <th>date</th>\n",
       "      <th>prod_id</th>\n",
       "      <th>prod_name_long</th>\n",
       "      <th>prod_brand</th>\n",
       "      <th>subcategory</th>\n",
       "      <th>tags</th>\n",
       "      <th>prod_unit_price</th>\n",
       "      <th>prod_units</th>\n",
       "      <th>prod_source</th>\n",
       "      <th>source_type</th>\n",
       "    </tr>\n",
       "  </thead>\n",
       "  <tbody>\n",
       "    <tr>\n",
       "      <th>43</th>\n",
       "      <td>2019-06-09</td>\n",
       "      <td>7501058715289</td>\n",
       "      <td>Aromatizante Air Wick Pure repuesto suavidad x...</td>\n",
       "      <td>AIR WICK</td>\n",
       "      <td>Aseo de hogar</td>\n",
       "      <td>Ambientadores</td>\n",
       "      <td>13713</td>\n",
       "      <td>Unidades</td>\n",
       "      <td>VERDE</td>\n",
       "      <td>1</td>\n",
       "    </tr>\n",
       "    <tr>\n",
       "      <th>8011</th>\n",
       "      <td>2019-07-09</td>\n",
       "      <td>7501058715289</td>\n",
       "      <td>Aromatizante Air Wick Pure repuesto suavidad x...</td>\n",
       "      <td>AIR WICK</td>\n",
       "      <td>Aseo de hogar</td>\n",
       "      <td>Ambientadores</td>\n",
       "      <td>19590</td>\n",
       "      <td>Unidades</td>\n",
       "      <td>VERDE</td>\n",
       "      <td>1</td>\n",
       "    </tr>\n",
       "    <tr>\n",
       "      <th>14694</th>\n",
       "      <td>2019-11-01</td>\n",
       "      <td>7501058715289</td>\n",
       "      <td>Aromatizante Air Wick Pure repuesto suavidad x...</td>\n",
       "      <td>AIR WICK</td>\n",
       "      <td>Aseo de hogar</td>\n",
       "      <td>Ambientadores</td>\n",
       "      <td>19590</td>\n",
       "      <td>Unidades</td>\n",
       "      <td>VERDE</td>\n",
       "      <td>1</td>\n",
       "    </tr>\n",
       "    <tr>\n",
       "      <th>20205</th>\n",
       "      <td>2020-02-20</td>\n",
       "      <td>7501058715289</td>\n",
       "      <td>Aromatizante Air Wick Pure Repuesto Suavidad x...</td>\n",
       "      <td>AIR WICK</td>\n",
       "      <td>Aseo de hogar</td>\n",
       "      <td>Ambientadores</td>\n",
       "      <td>19590</td>\n",
       "      <td>NaN</td>\n",
       "      <td>VERDE</td>\n",
       "      <td>1</td>\n",
       "    </tr>\n",
       "  </tbody>\n",
       "</table>\n",
       "</div>"
      ],
      "text/plain": [
       "            date        prod_id  \\\n",
       "43    2019-06-09  7501058715289   \n",
       "8011  2019-07-09  7501058715289   \n",
       "14694 2019-11-01  7501058715289   \n",
       "20205 2020-02-20  7501058715289   \n",
       "\n",
       "                                          prod_name_long prod_brand  \\\n",
       "43     Aromatizante Air Wick Pure repuesto suavidad x...   AIR WICK   \n",
       "8011   Aromatizante Air Wick Pure repuesto suavidad x...   AIR WICK   \n",
       "14694  Aromatizante Air Wick Pure repuesto suavidad x...   AIR WICK   \n",
       "20205  Aromatizante Air Wick Pure Repuesto Suavidad x...   AIR WICK   \n",
       "\n",
       "         subcategory           tags prod_unit_price prod_units prod_source  \\\n",
       "43     Aseo de hogar  Ambientadores           13713   Unidades       VERDE   \n",
       "8011   Aseo de hogar  Ambientadores           19590   Unidades       VERDE   \n",
       "14694  Aseo de hogar  Ambientadores           19590   Unidades       VERDE   \n",
       "20205  Aseo de hogar  Ambientadores           19590        NaN       VERDE   \n",
       "\n",
       "       source_type  \n",
       "43               1  \n",
       "8011             1  \n",
       "14694            1  \n",
       "20205            1  "
      ]
     },
     "execution_count": 17,
     "metadata": {},
     "output_type": "execute_result"
    }
   ],
   "source": [
    "df.loc[df['prod_id'] == 7501058715289].head()"
   ]
  },
  {
   "cell_type": "markdown",
   "id": "f820dcc8",
   "metadata": {
    "papermill": {
     "duration": 0.008577,
     "end_time": "2025-03-15T22:27:37.931294",
     "exception": false,
     "start_time": "2025-03-15T22:27:37.922717",
     "status": "completed"
    },
    "tags": []
   },
   "source": [
    "We can see that there are products that have their units defined, but not all of them have this value, so let's fix it."
   ]
  },
  {
   "cell_type": "code",
   "execution_count": 18,
   "id": "e2efbb5b",
   "metadata": {
    "execution": {
     "iopub.execute_input": "2025-03-15T22:27:37.949894Z",
     "iopub.status.busy": "2025-03-15T22:27:37.949544Z",
     "iopub.status.idle": "2025-03-15T22:27:40.335410Z",
     "shell.execute_reply": "2025-03-15T22:27:40.334210Z"
    },
    "papermill": {
     "duration": 2.39753,
     "end_time": "2025-03-15T22:27:40.337458",
     "exception": false,
     "start_time": "2025-03-15T22:27:37.939928",
     "status": "completed"
    },
    "tags": []
   },
   "outputs": [],
   "source": [
    "df['prod_units'] = df.groupby('prod_id')['prod_units'].transform(lambda x: x.ffill().bfill()).astype(df['prod_units'].dtype)"
   ]
  },
  {
   "cell_type": "markdown",
   "id": "7562600a",
   "metadata": {
    "papermill": {
     "duration": 0.00886,
     "end_time": "2025-03-15T22:27:40.355512",
     "exception": false,
     "start_time": "2025-03-15T22:27:40.346652",
     "status": "completed"
    },
    "tags": []
   },
   "source": [
    "let's apply this same solution for the product brand and unit price"
   ]
  },
  {
   "cell_type": "code",
   "execution_count": 19,
   "id": "f26582ab",
   "metadata": {
    "execution": {
     "iopub.execute_input": "2025-03-15T22:27:40.373813Z",
     "iopub.status.busy": "2025-03-15T22:27:40.373473Z",
     "iopub.status.idle": "2025-03-15T22:27:45.443788Z",
     "shell.execute_reply": "2025-03-15T22:27:45.442740Z"
    },
    "papermill": {
     "duration": 5.081711,
     "end_time": "2025-03-15T22:27:45.445739",
     "exception": false,
     "start_time": "2025-03-15T22:27:40.364028",
     "status": "completed"
    },
    "tags": []
   },
   "outputs": [],
   "source": [
    "df['prod_brand'] = df['prod_brand'].astype(\"string\")\n",
    "df['prod_brand'] = df.groupby('prod_id')['prod_brand'].transform(lambda x: x.ffill().bfill())\n",
    "df['prod_unit_price'] = df['prod_unit_price'].astype(\"string\")\n",
    "df['prod_unit_price'] = df.groupby('prod_id')['prod_unit_price'].transform(lambda x: x.ffill().bfill())"
   ]
  },
  {
   "cell_type": "code",
   "execution_count": 20,
   "id": "5c2de891",
   "metadata": {
    "execution": {
     "iopub.execute_input": "2025-03-15T22:27:45.464392Z",
     "iopub.status.busy": "2025-03-15T22:27:45.463968Z",
     "iopub.status.idle": "2025-03-15T22:27:45.483085Z",
     "shell.execute_reply": "2025-03-15T22:27:45.482009Z"
    },
    "papermill": {
     "duration": 0.030246,
     "end_time": "2025-03-15T22:27:45.484848",
     "exception": false,
     "start_time": "2025-03-15T22:27:45.454602",
     "status": "completed"
    },
    "tags": []
   },
   "outputs": [
    {
     "data": {
      "text/plain": [
       "date                0\n",
       "prod_id             0\n",
       "prod_name_long      0\n",
       "prod_brand         25\n",
       "subcategory         0\n",
       "tags                0\n",
       "prod_unit_price     0\n",
       "prod_units          0\n",
       "prod_source         0\n",
       "source_type         0\n",
       "dtype: int64"
      ]
     },
     "execution_count": 20,
     "metadata": {},
     "output_type": "execute_result"
    }
   ],
   "source": [
    "df.isna().sum()"
   ]
  },
  {
   "cell_type": "markdown",
   "id": "191a72c5",
   "metadata": {
    "papermill": {
     "duration": 0.008417,
     "end_time": "2025-03-15T22:27:45.502158",
     "exception": false,
     "start_time": "2025-03-15T22:27:45.493741",
     "status": "completed"
    },
    "tags": []
   },
   "source": [
    "We see that we reduce the amount of nan data in our data set quite a bit."
   ]
  },
  {
   "cell_type": "markdown",
   "id": "2f15ed77",
   "metadata": {
    "papermill": {
     "duration": 0.008446,
     "end_time": "2025-03-15T22:27:45.519624",
     "exception": false,
     "start_time": "2025-03-15T22:27:45.511178",
     "status": "completed"
    },
    "tags": []
   },
   "source": [
    "Let's see if there is duplicate data in our dataset"
   ]
  },
  {
   "cell_type": "code",
   "execution_count": 21,
   "id": "be300cc9",
   "metadata": {
    "execution": {
     "iopub.execute_input": "2025-03-15T22:27:45.538591Z",
     "iopub.status.busy": "2025-03-15T22:27:45.538180Z",
     "iopub.status.idle": "2025-03-15T22:27:45.556967Z",
     "shell.execute_reply": "2025-03-15T22:27:45.555860Z"
    },
    "papermill": {
     "duration": 0.030234,
     "end_time": "2025-03-15T22:27:45.558699",
     "exception": false,
     "start_time": "2025-03-15T22:27:45.528465",
     "status": "completed"
    },
    "tags": []
   },
   "outputs": [
    {
     "data": {
      "text/html": [
       "<div>\n",
       "<style scoped>\n",
       "    .dataframe tbody tr th:only-of-type {\n",
       "        vertical-align: middle;\n",
       "    }\n",
       "\n",
       "    .dataframe tbody tr th {\n",
       "        vertical-align: top;\n",
       "    }\n",
       "\n",
       "    .dataframe thead th {\n",
       "        text-align: right;\n",
       "    }\n",
       "</style>\n",
       "<table border=\"1\" class=\"dataframe\">\n",
       "  <thead>\n",
       "    <tr style=\"text-align: right;\">\n",
       "      <th></th>\n",
       "      <th>date</th>\n",
       "      <th>prod_id</th>\n",
       "      <th>prod_name_long</th>\n",
       "      <th>prod_brand</th>\n",
       "      <th>subcategory</th>\n",
       "      <th>tags</th>\n",
       "      <th>prod_unit_price</th>\n",
       "      <th>prod_units</th>\n",
       "      <th>prod_source</th>\n",
       "      <th>source_type</th>\n",
       "    </tr>\n",
       "  </thead>\n",
       "  <tbody>\n",
       "    <tr>\n",
       "      <th>2224</th>\n",
       "      <td>2019-06-09</td>\n",
       "      <td>7702425803992</td>\n",
       "      <td>Pañuelos Kleenex kids caja x12paquetes</td>\n",
       "      <td>KLEENEX</td>\n",
       "      <td>Cuidado Personal</td>\n",
       "      <td>Pañuelos</td>\n",
       "      <td>2583</td>\n",
       "      <td>Unidades</td>\n",
       "      <td>VERDE</td>\n",
       "      <td>1</td>\n",
       "    </tr>\n",
       "    <tr>\n",
       "      <th>2225</th>\n",
       "      <td>2019-06-09</td>\n",
       "      <td>7702425524828</td>\n",
       "      <td>Pañuelos Kleenex Original x 2 cubos x 60 und c-u</td>\n",
       "      <td>KLEENEX</td>\n",
       "      <td>Cuidado Personal</td>\n",
       "      <td>Pañuelos</td>\n",
       "      <td>5733</td>\n",
       "      <td>Unidades</td>\n",
       "      <td>VERDE</td>\n",
       "      <td>1</td>\n",
       "    </tr>\n",
       "    <tr>\n",
       "      <th>2226</th>\n",
       "      <td>2019-06-09</td>\n",
       "      <td>7702425805798</td>\n",
       "      <td>Pañuelos Kleenex triple hoja x 80unds precio e...</td>\n",
       "      <td>KLEENEX</td>\n",
       "      <td>Cuidado Personal</td>\n",
       "      <td>Pañuelos</td>\n",
       "      <td>3073</td>\n",
       "      <td>Unidades</td>\n",
       "      <td>VERDE</td>\n",
       "      <td>1</td>\n",
       "    </tr>\n",
       "    <tr>\n",
       "      <th>2238</th>\n",
       "      <td>2019-06-09</td>\n",
       "      <td>7702425803039</td>\n",
       "      <td>Papel higiénico  SCOTT cuidado completo triple...</td>\n",
       "      <td>SCOTT</td>\n",
       "      <td>Cuidado Personal</td>\n",
       "      <td>Papel higiénico</td>\n",
       "      <td>4893</td>\n",
       "      <td>Unidades</td>\n",
       "      <td>VERDE</td>\n",
       "      <td>1</td>\n",
       "    </tr>\n",
       "    <tr>\n",
       "      <th>2715</th>\n",
       "      <td>2019-06-09</td>\n",
       "      <td>7702175130799</td>\n",
       "      <td>Pimentero Rey Ed Especial</td>\n",
       "      <td>EL REY</td>\n",
       "      <td>Despensa</td>\n",
       "      <td>Condimentos, caldos y sal</td>\n",
       "      <td>6590</td>\n",
       "      <td>Unidades</td>\n",
       "      <td>VERDE</td>\n",
       "      <td>1</td>\n",
       "    </tr>\n",
       "  </tbody>\n",
       "</table>\n",
       "</div>"
      ],
      "text/plain": [
       "           date        prod_id  \\\n",
       "2224 2019-06-09  7702425803992   \n",
       "2225 2019-06-09  7702425524828   \n",
       "2226 2019-06-09  7702425805798   \n",
       "2238 2019-06-09  7702425803039   \n",
       "2715 2019-06-09  7702175130799   \n",
       "\n",
       "                                         prod_name_long prod_brand  \\\n",
       "2224             Pañuelos Kleenex kids caja x12paquetes    KLEENEX   \n",
       "2225   Pañuelos Kleenex Original x 2 cubos x 60 und c-u    KLEENEX   \n",
       "2226  Pañuelos Kleenex triple hoja x 80unds precio e...    KLEENEX   \n",
       "2238  Papel higiénico  SCOTT cuidado completo triple...      SCOTT   \n",
       "2715                          Pimentero Rey Ed Especial     EL REY   \n",
       "\n",
       "           subcategory                       tags prod_unit_price prod_units  \\\n",
       "2224  Cuidado Personal                   Pañuelos            2583   Unidades   \n",
       "2225  Cuidado Personal                   Pañuelos            5733   Unidades   \n",
       "2226  Cuidado Personal                   Pañuelos            3073   Unidades   \n",
       "2238  Cuidado Personal            Papel higiénico            4893   Unidades   \n",
       "2715          Despensa  Condimentos, caldos y sal            6590   Unidades   \n",
       "\n",
       "     prod_source  source_type  \n",
       "2224       VERDE            1  \n",
       "2225       VERDE            1  \n",
       "2226       VERDE            1  \n",
       "2238       VERDE            1  \n",
       "2715       VERDE            1  "
      ]
     },
     "execution_count": 21,
     "metadata": {},
     "output_type": "execute_result"
    }
   ],
   "source": [
    "df.loc[df.duplicated(subset=['prod_id'])].head()"
   ]
  },
  {
   "cell_type": "markdown",
   "id": "24d89804",
   "metadata": {
    "papermill": {
     "duration": 0.008808,
     "end_time": "2025-03-15T22:27:45.576715",
     "exception": false,
     "start_time": "2025-03-15T22:27:45.567907",
     "status": "completed"
    },
    "tags": []
   },
   "source": [
    "Let's take a closer look at why they are duplicated and whether they have a logical reason to be duplicated."
   ]
  },
  {
   "cell_type": "code",
   "execution_count": 22,
   "id": "48cd5c74",
   "metadata": {
    "execution": {
     "iopub.execute_input": "2025-03-15T22:27:45.595953Z",
     "iopub.status.busy": "2025-03-15T22:27:45.595586Z",
     "iopub.status.idle": "2025-03-15T22:27:45.614656Z",
     "shell.execute_reply": "2025-03-15T22:27:45.613552Z"
    },
    "papermill": {
     "duration": 0.030851,
     "end_time": "2025-03-15T22:27:45.616599",
     "exception": false,
     "start_time": "2025-03-15T22:27:45.585748",
     "status": "completed"
    },
    "tags": []
   },
   "outputs": [
    {
     "data": {
      "text/html": [
       "<div>\n",
       "<style scoped>\n",
       "    .dataframe tbody tr th:only-of-type {\n",
       "        vertical-align: middle;\n",
       "    }\n",
       "\n",
       "    .dataframe tbody tr th {\n",
       "        vertical-align: top;\n",
       "    }\n",
       "\n",
       "    .dataframe thead th {\n",
       "        text-align: right;\n",
       "    }\n",
       "</style>\n",
       "<table border=\"1\" class=\"dataframe\">\n",
       "  <thead>\n",
       "    <tr style=\"text-align: right;\">\n",
       "      <th></th>\n",
       "      <th>date</th>\n",
       "      <th>prod_id</th>\n",
       "      <th>prod_name_long</th>\n",
       "      <th>prod_brand</th>\n",
       "      <th>subcategory</th>\n",
       "      <th>tags</th>\n",
       "      <th>prod_unit_price</th>\n",
       "      <th>prod_units</th>\n",
       "      <th>prod_source</th>\n",
       "      <th>source_type</th>\n",
       "    </tr>\n",
       "  </thead>\n",
       "  <tbody>\n",
       "    <tr>\n",
       "      <th>2221</th>\n",
       "      <td>2019-06-09</td>\n",
       "      <td>7702425803992</td>\n",
       "      <td>Pañuelos Kleenex kids caja x12paquetes</td>\n",
       "      <td>KLEENEX</td>\n",
       "      <td>Cuidado Personal</td>\n",
       "      <td>Pañuelos</td>\n",
       "      <td>2583</td>\n",
       "      <td>Unidades</td>\n",
       "      <td>VERDE</td>\n",
       "      <td>1</td>\n",
       "    </tr>\n",
       "    <tr>\n",
       "      <th>2224</th>\n",
       "      <td>2019-06-09</td>\n",
       "      <td>7702425803992</td>\n",
       "      <td>Pañuelos Kleenex kids caja x12paquetes</td>\n",
       "      <td>KLEENEX</td>\n",
       "      <td>Cuidado Personal</td>\n",
       "      <td>Pañuelos</td>\n",
       "      <td>2583</td>\n",
       "      <td>Unidades</td>\n",
       "      <td>VERDE</td>\n",
       "      <td>1</td>\n",
       "    </tr>\n",
       "    <tr>\n",
       "      <th>10225</th>\n",
       "      <td>2019-07-09</td>\n",
       "      <td>7702425803992</td>\n",
       "      <td>Pañuelos Kleenex kids caja x12paquetes</td>\n",
       "      <td>KLEENEX</td>\n",
       "      <td>Cuidado Personal</td>\n",
       "      <td>Pañuelos</td>\n",
       "      <td>2583</td>\n",
       "      <td>Unidades</td>\n",
       "      <td>VERDE</td>\n",
       "      <td>1</td>\n",
       "    </tr>\n",
       "    <tr>\n",
       "      <th>10228</th>\n",
       "      <td>2019-07-09</td>\n",
       "      <td>7702425803992</td>\n",
       "      <td>Pañuelos Kleenex kids caja x12paquetes</td>\n",
       "      <td>KLEENEX</td>\n",
       "      <td>Cuidado Personal</td>\n",
       "      <td>Pañuelos</td>\n",
       "      <td>3690</td>\n",
       "      <td>Unidades</td>\n",
       "      <td>VERDE</td>\n",
       "      <td>1</td>\n",
       "    </tr>\n",
       "    <tr>\n",
       "      <th>16497</th>\n",
       "      <td>2019-11-01</td>\n",
       "      <td>7702425803992</td>\n",
       "      <td>Pañuelos Kleenex kids caja x12paquetes</td>\n",
       "      <td>KLEENEX</td>\n",
       "      <td>Cuidado Personal</td>\n",
       "      <td>Pañuelos</td>\n",
       "      <td>3790</td>\n",
       "      <td>Unidades</td>\n",
       "      <td>VERDE</td>\n",
       "      <td>1</td>\n",
       "    </tr>\n",
       "    <tr>\n",
       "      <th>16500</th>\n",
       "      <td>2019-11-01</td>\n",
       "      <td>7702425803992</td>\n",
       "      <td>Pañuelos Kleenex kids caja x12paquetes</td>\n",
       "      <td>KLEENEX</td>\n",
       "      <td>Cuidado Personal</td>\n",
       "      <td>Pañuelos</td>\n",
       "      <td>3790</td>\n",
       "      <td>Unidades</td>\n",
       "      <td>VERDE</td>\n",
       "      <td>1</td>\n",
       "    </tr>\n",
       "    <tr>\n",
       "      <th>21885</th>\n",
       "      <td>2020-02-20</td>\n",
       "      <td>7702425803992</td>\n",
       "      <td>Pañuelos Kleenex kids caja x12paquetes</td>\n",
       "      <td>KLEENEX</td>\n",
       "      <td>Cuidado Personal</td>\n",
       "      <td>Pañuelos</td>\n",
       "      <td>3790</td>\n",
       "      <td>Unidades</td>\n",
       "      <td>VERDE</td>\n",
       "      <td>1</td>\n",
       "    </tr>\n",
       "  </tbody>\n",
       "</table>\n",
       "</div>"
      ],
      "text/plain": [
       "            date        prod_id                          prod_name_long  \\\n",
       "2221  2019-06-09  7702425803992  Pañuelos Kleenex kids caja x12paquetes   \n",
       "2224  2019-06-09  7702425803992  Pañuelos Kleenex kids caja x12paquetes   \n",
       "10225 2019-07-09  7702425803992  Pañuelos Kleenex kids caja x12paquetes   \n",
       "10228 2019-07-09  7702425803992  Pañuelos Kleenex kids caja x12paquetes   \n",
       "16497 2019-11-01  7702425803992  Pañuelos Kleenex kids caja x12paquetes   \n",
       "16500 2019-11-01  7702425803992  Pañuelos Kleenex kids caja x12paquetes   \n",
       "21885 2020-02-20  7702425803992  Pañuelos Kleenex kids caja x12paquetes   \n",
       "\n",
       "      prod_brand       subcategory      tags prod_unit_price prod_units  \\\n",
       "2221     KLEENEX  Cuidado Personal  Pañuelos            2583   Unidades   \n",
       "2224     KLEENEX  Cuidado Personal  Pañuelos            2583   Unidades   \n",
       "10225    KLEENEX  Cuidado Personal  Pañuelos            2583   Unidades   \n",
       "10228    KLEENEX  Cuidado Personal  Pañuelos            3690   Unidades   \n",
       "16497    KLEENEX  Cuidado Personal  Pañuelos            3790   Unidades   \n",
       "16500    KLEENEX  Cuidado Personal  Pañuelos            3790   Unidades   \n",
       "21885    KLEENEX  Cuidado Personal  Pañuelos            3790   Unidades   \n",
       "\n",
       "      prod_source  source_type  \n",
       "2221        VERDE            1  \n",
       "2224        VERDE            1  \n",
       "10225       VERDE            1  \n",
       "10228       VERDE            1  \n",
       "16497       VERDE            1  \n",
       "16500       VERDE            1  \n",
       "21885       VERDE            1  "
      ]
     },
     "execution_count": 22,
     "metadata": {},
     "output_type": "execute_result"
    }
   ],
   "source": [
    "df.query('prod_id == 7702425803992')"
   ]
  },
  {
   "cell_type": "code",
   "execution_count": 23,
   "id": "de660c46",
   "metadata": {
    "execution": {
     "iopub.execute_input": "2025-03-15T22:27:45.636631Z",
     "iopub.status.busy": "2025-03-15T22:27:45.636177Z",
     "iopub.status.idle": "2025-03-15T22:27:45.655952Z",
     "shell.execute_reply": "2025-03-15T22:27:45.654876Z"
    },
    "papermill": {
     "duration": 0.031743,
     "end_time": "2025-03-15T22:27:45.657789",
     "exception": false,
     "start_time": "2025-03-15T22:27:45.626046",
     "status": "completed"
    },
    "tags": []
   },
   "outputs": [
    {
     "data": {
      "text/html": [
       "<div>\n",
       "<style scoped>\n",
       "    .dataframe tbody tr th:only-of-type {\n",
       "        vertical-align: middle;\n",
       "    }\n",
       "\n",
       "    .dataframe tbody tr th {\n",
       "        vertical-align: top;\n",
       "    }\n",
       "\n",
       "    .dataframe thead th {\n",
       "        text-align: right;\n",
       "    }\n",
       "</style>\n",
       "<table border=\"1\" class=\"dataframe\">\n",
       "  <thead>\n",
       "    <tr style=\"text-align: right;\">\n",
       "      <th></th>\n",
       "      <th>date</th>\n",
       "      <th>prod_id</th>\n",
       "      <th>prod_name_long</th>\n",
       "      <th>prod_brand</th>\n",
       "      <th>subcategory</th>\n",
       "      <th>tags</th>\n",
       "      <th>prod_unit_price</th>\n",
       "      <th>prod_units</th>\n",
       "      <th>prod_source</th>\n",
       "      <th>source_type</th>\n",
       "    </tr>\n",
       "  </thead>\n",
       "  <tbody>\n",
       "    <tr>\n",
       "      <th>2221</th>\n",
       "      <td>2019-06-09</td>\n",
       "      <td>7702425803992</td>\n",
       "      <td>Pañuelos Kleenex kids caja x12paquetes</td>\n",
       "      <td>KLEENEX</td>\n",
       "      <td>Cuidado Personal</td>\n",
       "      <td>Pañuelos</td>\n",
       "      <td>2583</td>\n",
       "      <td>Unidades</td>\n",
       "      <td>VERDE</td>\n",
       "      <td>1</td>\n",
       "    </tr>\n",
       "    <tr>\n",
       "      <th>2224</th>\n",
       "      <td>2019-06-09</td>\n",
       "      <td>7702425803992</td>\n",
       "      <td>Pañuelos Kleenex kids caja x12paquetes</td>\n",
       "      <td>KLEENEX</td>\n",
       "      <td>Cuidado Personal</td>\n",
       "      <td>Pañuelos</td>\n",
       "      <td>2583</td>\n",
       "      <td>Unidades</td>\n",
       "      <td>VERDE</td>\n",
       "      <td>1</td>\n",
       "    </tr>\n",
       "  </tbody>\n",
       "</table>\n",
       "</div>"
      ],
      "text/plain": [
       "           date        prod_id                          prod_name_long  \\\n",
       "2221 2019-06-09  7702425803992  Pañuelos Kleenex kids caja x12paquetes   \n",
       "2224 2019-06-09  7702425803992  Pañuelos Kleenex kids caja x12paquetes   \n",
       "\n",
       "     prod_brand       subcategory      tags prod_unit_price prod_units  \\\n",
       "2221    KLEENEX  Cuidado Personal  Pañuelos            2583   Unidades   \n",
       "2224    KLEENEX  Cuidado Personal  Pañuelos            2583   Unidades   \n",
       "\n",
       "     prod_source  source_type  \n",
       "2221       VERDE            1  \n",
       "2224       VERDE            1  "
      ]
     },
     "execution_count": 23,
     "metadata": {},
     "output_type": "execute_result"
    }
   ],
   "source": [
    "df.query('prod_id == 7702425803992 and date == @pd.Timestamp(\"2019-06-09\")')"
   ]
  },
  {
   "cell_type": "code",
   "execution_count": 24,
   "id": "5545006b",
   "metadata": {
    "execution": {
     "iopub.execute_input": "2025-03-15T22:27:45.678489Z",
     "iopub.status.busy": "2025-03-15T22:27:45.678044Z",
     "iopub.status.idle": "2025-03-15T22:27:45.696733Z",
     "shell.execute_reply": "2025-03-15T22:27:45.695543Z"
    },
    "papermill": {
     "duration": 0.030758,
     "end_time": "2025-03-15T22:27:45.698446",
     "exception": false,
     "start_time": "2025-03-15T22:27:45.667688",
     "status": "completed"
    },
    "tags": []
   },
   "outputs": [
    {
     "data": {
      "text/html": [
       "<div>\n",
       "<style scoped>\n",
       "    .dataframe tbody tr th:only-of-type {\n",
       "        vertical-align: middle;\n",
       "    }\n",
       "\n",
       "    .dataframe tbody tr th {\n",
       "        vertical-align: top;\n",
       "    }\n",
       "\n",
       "    .dataframe thead th {\n",
       "        text-align: right;\n",
       "    }\n",
       "</style>\n",
       "<table border=\"1\" class=\"dataframe\">\n",
       "  <thead>\n",
       "    <tr style=\"text-align: right;\">\n",
       "      <th></th>\n",
       "      <th>date</th>\n",
       "      <th>prod_id</th>\n",
       "      <th>prod_name_long</th>\n",
       "      <th>prod_brand</th>\n",
       "      <th>subcategory</th>\n",
       "      <th>tags</th>\n",
       "      <th>prod_unit_price</th>\n",
       "      <th>prod_units</th>\n",
       "      <th>prod_source</th>\n",
       "      <th>source_type</th>\n",
       "    </tr>\n",
       "  </thead>\n",
       "  <tbody>\n",
       "    <tr>\n",
       "      <th>16497</th>\n",
       "      <td>2019-11-01</td>\n",
       "      <td>7702425803992</td>\n",
       "      <td>Pañuelos Kleenex kids caja x12paquetes</td>\n",
       "      <td>KLEENEX</td>\n",
       "      <td>Cuidado Personal</td>\n",
       "      <td>Pañuelos</td>\n",
       "      <td>3790</td>\n",
       "      <td>Unidades</td>\n",
       "      <td>VERDE</td>\n",
       "      <td>1</td>\n",
       "    </tr>\n",
       "    <tr>\n",
       "      <th>16500</th>\n",
       "      <td>2019-11-01</td>\n",
       "      <td>7702425803992</td>\n",
       "      <td>Pañuelos Kleenex kids caja x12paquetes</td>\n",
       "      <td>KLEENEX</td>\n",
       "      <td>Cuidado Personal</td>\n",
       "      <td>Pañuelos</td>\n",
       "      <td>3790</td>\n",
       "      <td>Unidades</td>\n",
       "      <td>VERDE</td>\n",
       "      <td>1</td>\n",
       "    </tr>\n",
       "  </tbody>\n",
       "</table>\n",
       "</div>"
      ],
      "text/plain": [
       "            date        prod_id                          prod_name_long  \\\n",
       "16497 2019-11-01  7702425803992  Pañuelos Kleenex kids caja x12paquetes   \n",
       "16500 2019-11-01  7702425803992  Pañuelos Kleenex kids caja x12paquetes   \n",
       "\n",
       "      prod_brand       subcategory      tags prod_unit_price prod_units  \\\n",
       "16497    KLEENEX  Cuidado Personal  Pañuelos            3790   Unidades   \n",
       "16500    KLEENEX  Cuidado Personal  Pañuelos            3790   Unidades   \n",
       "\n",
       "      prod_source  source_type  \n",
       "16497       VERDE            1  \n",
       "16500       VERDE            1  "
      ]
     },
     "execution_count": 24,
     "metadata": {},
     "output_type": "execute_result"
    }
   ],
   "source": [
    "df.query('prod_id == 7702425803992 and date == @pd.Timestamp(\"2019-11-01\")')"
   ]
  },
  {
   "cell_type": "markdown",
   "id": "1dd225fd",
   "metadata": {
    "papermill": {
     "duration": 0.009365,
     "end_time": "2025-03-15T22:27:45.717656",
     "exception": false,
     "start_time": "2025-03-15T22:27:45.708291",
     "status": "completed"
    },
    "tags": []
   },
   "source": [
    "Being a data set of “available products” we can assume that the dates and ids of repeated products indicate the stock available at that date, so this should not cause any problems"
   ]
  },
  {
   "cell_type": "markdown",
   "id": "fa69e1c5",
   "metadata": {
    "papermill": {
     "duration": 0.009511,
     "end_time": "2025-03-15T22:27:45.737197",
     "exception": false,
     "start_time": "2025-03-15T22:27:45.727686",
     "status": "completed"
    },
    "tags": []
   },
   "source": [
    "# 2. Data Understanfing"
   ]
  },
  {
   "cell_type": "code",
   "execution_count": null,
   "id": "a024f64b",
   "metadata": {
    "papermill": {
     "duration": 0.00982,
     "end_time": "2025-03-15T22:27:45.756648",
     "exception": false,
     "start_time": "2025-03-15T22:27:45.746828",
     "status": "completed"
    },
    "tags": []
   },
   "outputs": [],
   "source": []
  }
 ],
 "metadata": {
  "kaggle": {
   "accelerator": "none",
   "dataSources": [
    {
     "datasetId": 426413,
     "sourceId": 959586,
     "sourceType": "datasetVersion"
    }
   ],
   "dockerImageVersionId": 30918,
   "isGpuEnabled": false,
   "isInternetEnabled": true,
   "language": "python",
   "sourceType": "notebook"
  },
  "kernelspec": {
   "display_name": "Python 3",
   "language": "python",
   "name": "python3"
  },
  "language_info": {
   "codemirror_mode": {
    "name": "ipython",
    "version": 3
   },
   "file_extension": ".py",
   "mimetype": "text/x-python",
   "name": "python",
   "nbconvert_exporter": "python",
   "pygments_lexer": "ipython3",
   "version": "3.10.12"
  },
  "papermill": {
   "default_parameters": {},
   "duration": 20.121409,
   "end_time": "2025-03-15T22:27:46.487896",
   "environment_variables": {},
   "exception": null,
   "input_path": "__notebook__.ipynb",
   "output_path": "__notebook__.ipynb",
   "parameters": {},
   "start_time": "2025-03-15T22:27:26.366487",
   "version": "2.6.0"
  }
 },
 "nbformat": 4,
 "nbformat_minor": 5
}
